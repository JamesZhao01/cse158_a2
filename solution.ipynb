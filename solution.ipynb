{
 "cells": [
  {
   "cell_type": "code",
   "execution_count": 10,
   "metadata": {},
   "outputs": [],
   "source": [
    "import json, gzip, tqdm, math, csv, random, numpy as np, pandas as pd, os, array\r\n",
    "from collections import defaultdict\r\n",
    "from sklearn import linear_model\r\n",
    "from IPython.display import display, HTML\r\n",
    "def parse(path, max_ct = 5000):\r\n",
    "  f = open(path, 'rb')\r\n",
    "  ct = 0\r\n",
    "  for l in tqdm.tqdm(f):\r\n",
    "    yield eval(l)\r\n",
    "    ct += 1\r\n",
    "    if ct > max_ct:\r\n",
    "      break\r\n",
    "def getDF(path, max_ct = 5000):\r\n",
    "  i = 0\r\n",
    "  df = {}\r\n",
    "  for d in parse(path, max_ct = max_ct):\r\n",
    "    d[\"categories\"] = d[\"categories\"][0]\r\n",
    "    df[i] = d\r\n",
    "    i += 1\r\n",
    "  return pd.DataFrame.from_dict(df, orient='index')\r\n",
    "def getDFRev(path, max_ct = 5000):\r\n",
    "  i = 0\r\n",
    "  df = {}\r\n",
    "  for d in parse(path, max_ct = max_ct):\r\n",
    "    df[i] = d\r\n",
    "    i += 1\r\n",
    "  return pd.DataFrame.from_dict(df, orient='index')\r\n"
   ]
  },
  {
   "cell_type": "code",
   "execution_count": 11,
   "metadata": {},
   "outputs": [
    {
     "name": "stderr",
     "output_type": "stream",
     "text": [
      "1503384it [02:16, 10978.09it/s]\n",
      "5748920it [02:55, 32813.47it/s]\n"
     ]
    },
    {
     "name": "stdout",
     "output_type": "stream",
     "text": [
      "Count Nans:  [('asin', 0), ('related', 446185), ('title', 609), ('price', 928425), ('salesRank', 81093), ('imUrl', 0), ('brand', 1405173), ('categories', 0), ('description', 1417866)]\n"
     ]
    }
   ],
   "source": [
    "limit = 99999999\r\n",
    "df = getDF('meta_Clothing_Shoes_and_Jewelry.json', max_ct = limit)\r\n",
    "# filter metadata without images\r\n",
    "df = df[df[\"imUrl\"].notna()]\r\n",
    "df_rev = getDFRev('reviews_Clothing_Shoes_and_Jewelry.json', max_ct = limit)\r\n",
    "print(\"Count Nans: \", [(col, df[col].isna().sum()) for col in df.columns])"
   ]
  },
  {
   "cell_type": "code",
   "execution_count": 12,
   "metadata": {},
   "outputs": [
    {
     "data": {
      "text/html": "<div>\n<style scoped>\n    .dataframe tbody tr th:only-of-type {\n        vertical-align: middle;\n    }\n\n    .dataframe tbody tr th {\n        vertical-align: top;\n    }\n\n    .dataframe thead th {\n        text-align: right;\n    }\n</style>\n<table border=\"1\" class=\"dataframe\">\n  <thead>\n    <tr style=\"text-align: right;\">\n      <th></th>\n      <th>asin</th>\n      <th>related</th>\n      <th>title</th>\n      <th>price</th>\n      <th>salesRank</th>\n      <th>imUrl</th>\n      <th>brand</th>\n      <th>categories</th>\n      <th>description</th>\n    </tr>\n  </thead>\n  <tbody>\n    <tr>\n      <th>0</th>\n      <td>0000037214</td>\n      <td>{'also_viewed': ['B00JO8II76', 'B00DGN4R1Q', '...</td>\n      <td>Purple Sequin Tiny Dancer Tutu Ballet Dance Fa...</td>\n      <td>6.99</td>\n      <td>{'Clothing': 1233557}</td>\n      <td>http://ecx.images-amazon.com/images/I/31mCncNu...</td>\n      <td>Big Dreams</td>\n      <td>[Clothing, Shoes &amp; Jewelry, Girls]</td>\n      <td>NaN</td>\n    </tr>\n  </tbody>\n</table>\n</div>",
      "text/plain": "         asin                                            related  \\\n0  0000037214  {'also_viewed': ['B00JO8II76', 'B00DGN4R1Q', '...   \n\n                                               title  price  \\\n0  Purple Sequin Tiny Dancer Tutu Ballet Dance Fa...   6.99   \n\n               salesRank                                              imUrl  \\\n0  {'Clothing': 1233557}  http://ecx.images-amazon.com/images/I/31mCncNu...   \n\n        brand                          categories description  \n0  Big Dreams  [Clothing, Shoes & Jewelry, Girls]         NaN  "
     },
     "metadata": {},
     "output_type": "display_data"
    },
    {
     "data": {
      "text/html": "<div>\n<style scoped>\n    .dataframe tbody tr th:only-of-type {\n        vertical-align: middle;\n    }\n\n    .dataframe tbody tr th {\n        vertical-align: top;\n    }\n\n    .dataframe thead th {\n        text-align: right;\n    }\n</style>\n<table border=\"1\" class=\"dataframe\">\n  <thead>\n    <tr style=\"text-align: right;\">\n      <th></th>\n      <th>reviewerID</th>\n      <th>asin</th>\n      <th>reviewerName</th>\n      <th>helpful</th>\n      <th>reviewText</th>\n      <th>overall</th>\n      <th>summary</th>\n      <th>unixReviewTime</th>\n      <th>reviewTime</th>\n    </tr>\n  </thead>\n  <tbody>\n    <tr>\n      <th>0</th>\n      <td>A2XVJBSRI3SWDI</td>\n      <td>0000031887</td>\n      <td>abigail</td>\n      <td>[0, 0]</td>\n      <td>Perfect red tutu for the price. I baught it as...</td>\n      <td>5.0</td>\n      <td>Nice tutu</td>\n      <td>1383523200</td>\n      <td>11 4, 2013</td>\n    </tr>\n  </tbody>\n</table>\n</div>",
      "text/plain": "       reviewerID        asin reviewerName helpful  \\\n0  A2XVJBSRI3SWDI  0000031887      abigail  [0, 0]   \n\n                                          reviewText  overall    summary  \\\n0  Perfect red tutu for the price. I baught it as...      5.0  Nice tutu   \n\n   unixReviewTime  reviewTime  \n0      1383523200  11 4, 2013  "
     },
     "metadata": {},
     "output_type": "display_data"
    }
   ],
   "source": [
    "display(df[:1])\r\n",
    "display(df_rev[:1])"
   ]
  },
  {
   "cell_type": "code",
   "execution_count": 13,
   "metadata": {},
   "outputs": [
    {
     "name": "stderr",
     "output_type": "stream",
     "text": [
      "100%|██████████| 1503305/1503305 [00:01<00:00, 991953.57it/s]"
     ]
    },
    {
     "name": "stdout",
     "output_type": "stream",
     "text": [
      "[('Clothing, Shoes & Jewelry', 1435790), ('Women', 502696), ('Clothing', 410680), ('Shoes & Accessories: International Shipping Available', 267208), ('Men', 215989), ('Novelty, Costumes & More', 112130), ('Accessories', 110695), ('Jewelry', 69197), ('Sports & Outdoors', 63031), ('Shoes', 58289), ('Dresses', 51687), ('Tops & Tees', 49797), ('Girls', 48399), ('Novelty', 46932), ('Shirts', 36812), ('New Arrivals', 36603), ('Lingerie, Sleep & Lounge', 36506), ('Baby', 33910), ('Costumes & Accessories', 32980), ('Casual', 31283)]\n"
     ]
    },
    {
     "name": "stderr",
     "output_type": "stream",
     "text": [
      "\n"
     ]
    }
   ],
   "source": [
    "cat_cts = defaultdict(int)\r\n",
    "for cats in tqdm.tqdm(df[\"categories\"]):\r\n",
    "    for c in cats:\r\n",
    "        cat_cts[c] += 1\r\n",
    "cat_lists = list(cat_cts.items())\r\n",
    "# print categories and their counts\r\n",
    "cat_lists.sort(key = lambda x: -x[1])\r\n",
    "print(cat_lists[:20])"
   ]
  },
  {
   "cell_type": "code",
   "execution_count": 14,
   "metadata": {},
   "outputs": [],
   "source": [
    "def filter_df_by_category(category, acceptable_asins):\r\n",
    "  return df[df.apply(lambda x: category in x[\"categories\"] and x[\"asin\"] in acceptable_asins, axis=1)]\r\n",
    "def filter_rev_by_ids(id_set):\r\n",
    "  return df_rev[df_rev.apply(lambda x: x[\"asin\"] in id_set, axis=1)]\r\n",
    "# reads (asins, features) for all asins that exist in the asin_set\r\n",
    "def readImageFeatures(path, asin_set):\r\n",
    "  f = open(path, 'rb')\r\n",
    "  while True:\r\n",
    "    asin = f.read(10).decode(\"utf-8\")\r\n",
    "    if len(asin) == 0: break\r\n",
    "    a = array.array('f')\r\n",
    "    a.fromfile(f, 4096)\r\n",
    "    if asin in asin_set:\r\n",
    "      yield asin, a\r\n",
    "# Reads ALL asins from a featurePath\r\n",
    "def readFeatAsins(path):\r\n",
    "  f = open(path, 'rb')\r\n",
    "  while True:\r\n",
    "    asin = f.read(10).decode(\"utf-8\")\r\n",
    "    if len(asin) == 0: break\r\n",
    "    f.read(4096 * 4)\r\n",
    "    yield asin\r\n",
    "def createFeatsColumn(path, asin_set, asins):\r\n",
    "  fts_dict = dict(readImageFeatures(path, asin_set))\r\n",
    "  print(len(fts_dict), len(asins))\r\n",
    "  assert(len(fts_dict) == len(asins))\r\n",
    "  return [list(fts_dict[t]) for t in asins]\r\n",
    "def write(base_path, meta, rev):\r\n",
    "  os.makedirs(base_path, exist_ok=True)\r\n",
    "  rev.to_json(os.path.join(base_path, \"rev.json\"))\r\n",
    "  meta.to_json(os.path.join(base_path, \"meta.json\"))"
   ]
  },
  {
   "cell_type": "code",
   "execution_count": 15,
   "metadata": {},
   "outputs": [
    {
     "name": "stdout",
     "output_type": "stream",
     "text": [
      "Length of acceptable asins:  1494171\n",
      "57985 57985\n",
      "Length meta filtered:  57985\n",
      "Length rev filtered:  165947\n",
      "Length of feats:  57985\n"
     ]
    },
    {
     "name": "stderr",
     "output_type": "stream",
     "text": [
      "C:\\Users\\James\\anaconda3\\envs\\cse158_37\\lib\\site-packages\\ipykernel_launcher.py:14: SettingWithCopyWarning: \n",
      "A value is trying to be set on a copy of a slice from a DataFrame.\n",
      "Try using .loc[row_indexer,col_indexer] = value instead\n",
      "\n",
      "See the caveats in the documentation: https://pandas.pydata.org/pandas-docs/stable/user_guide/indexing.html#returning-a-view-versus-a-copy\n",
      "  \n"
     ]
    }
   ],
   "source": [
    "# investigating discrepency\r\n",
    "filter_name = \"Shoes\"\r\n",
    "\r\n",
    "# set of asins that have image features\r\n",
    "acceptable_asins = set(readFeatAsins(\"image_features_Clothing_Shoes_and_Jewelry.b\"))\r\n",
    "print(\"Length of acceptable asins: \", len(acceptable_asins))\r\n",
    "# filtered rows that have the specified filter_name and also exist in the image features binary file\r\n",
    "df_filtered = filter_df_by_category(filter_name, acceptable_asins)\r\n",
    "\r\n",
    "id_set = set(df_filtered[\"asin\"])\r\n",
    "rev_filtered= filter_rev_by_ids(id_set)\r\n",
    "# img_feats = dict(readImageFeatures(\"image_features_Clothing_Shoes_and_Jewelry.b\", id_set))\r\n",
    "feats_col = createFeatsColumn(\"image_features_Clothing_Shoes_and_Jewelry.b\", id_set, df_filtered[\"asin\"])\r\n",
    "df_filtered[\"feats\"] = feats_col\r\n",
    "print(\"Length meta filtered: \", len(df_filtered))\r\n",
    "print(\"Length rev filtered: \", len(rev_filtered))\r\n",
    "print(\"Length of feats: \", len(feats_col))"
   ]
  },
  {
   "cell_type": "code",
   "execution_count": 18,
   "metadata": {},
   "outputs": [
    {
     "data": {
      "text/html": "<div>\n<style scoped>\n    .dataframe tbody tr th:only-of-type {\n        vertical-align: middle;\n    }\n\n    .dataframe tbody tr th {\n        vertical-align: top;\n    }\n\n    .dataframe thead th {\n        text-align: right;\n    }\n</style>\n<table border=\"1\" class=\"dataframe\">\n  <thead>\n    <tr style=\"text-align: right;\">\n      <th></th>\n      <th>asin</th>\n      <th>related</th>\n      <th>title</th>\n      <th>price</th>\n      <th>salesRank</th>\n      <th>imUrl</th>\n      <th>brand</th>\n      <th>categories</th>\n      <th>description</th>\n      <th>feats</th>\n    </tr>\n  </thead>\n  <tbody>\n    <tr>\n      <th>147</th>\n      <td>8921463216</td>\n      <td>{'also_viewed': ['8921463267', '8921463208', '...</td>\n      <td>Hello Kitty LALA Lovely Womens Summer Slippers...</td>\n      <td>NaN</td>\n      <td>{'Beauty': 377777}</td>\n      <td>http://ecx.images-amazon.com/images/I/41hbUxgB...</td>\n      <td>NaN</td>\n      <td>[Clothing, Shoes &amp; Jewelry, Women, Shoes, Slip...</td>\n      <td>NaN</td>\n      <td>[0.0, 3.3559999465942383, 0.0, 0.0, 1.55359995...</td>\n    </tr>\n    <tr>\n      <th>148</th>\n      <td>8921463267</td>\n      <td>{'also_viewed': ['8921463259', 'B007682TD0', '...</td>\n      <td>Hello Kitty LALA Lovely Womens Summer Slippers...</td>\n      <td>22.99</td>\n      <td>{'Beauty': 171597}</td>\n      <td>http://ecx.images-amazon.com/images/I/41H1HmaH...</td>\n      <td>Hello Kitty</td>\n      <td>[Clothing, Shoes &amp; Jewelry, Women, Shoes, Slip...</td>\n      <td>NaN</td>\n      <td>[0.0, 0.9203000068664551, 0.0, 0.0, 3.70679998...</td>\n    </tr>\n  </tbody>\n</table>\n</div>",
      "text/plain": "           asin                                            related  \\\n147  8921463216  {'also_viewed': ['8921463267', '8921463208', '...   \n148  8921463267  {'also_viewed': ['8921463259', 'B007682TD0', '...   \n\n                                                 title  price  \\\n147  Hello Kitty LALA Lovely Womens Summer Slippers...    NaN   \n148  Hello Kitty LALA Lovely Womens Summer Slippers...  22.99   \n\n              salesRank                                              imUrl  \\\n147  {'Beauty': 377777}  http://ecx.images-amazon.com/images/I/41hbUxgB...   \n148  {'Beauty': 171597}  http://ecx.images-amazon.com/images/I/41H1HmaH...   \n\n           brand                                         categories  \\\n147          NaN  [Clothing, Shoes & Jewelry, Women, Shoes, Slip...   \n148  Hello Kitty  [Clothing, Shoes & Jewelry, Women, Shoes, Slip...   \n\n    description                                              feats  \n147         NaN  [0.0, 3.3559999465942383, 0.0, 0.0, 1.55359995...  \n148         NaN  [0.0, 0.9203000068664551, 0.0, 0.0, 3.70679998...  "
     },
     "execution_count": 18,
     "metadata": {},
     "output_type": "execute_result"
    }
   ],
   "source": [
    "df_filtered[:2]"
   ]
  },
  {
   "cell_type": "code",
   "execution_count": 17,
   "metadata": {},
   "outputs": [],
   "source": [
    "write(\"./data/shoes\", df_filtered, rev_filtered)"
   ]
  }
 ],
 "metadata": {
  "kernelspec": {
   "display_name": "Python 3.7.11 64-bit ('cse158_37': conda)",
   "name": "python3711jvsc74a57bd00d151ab34c9aaab944e38038fcabbcbde94c7261585d9a9c92994237575effe2"
  },
  "language_info": {
   "codemirror_mode": {
    "name": "ipython",
    "version": 3
   },
   "file_extension": ".py",
   "mimetype": "text/x-python",
   "name": "python",
   "nbconvert_exporter": "python",
   "pygments_lexer": "ipython3",
   "version": "3.7.11"
  },
  "orig_nbformat": 3
 },
 "nbformat": 4,
 "nbformat_minor": 2
}